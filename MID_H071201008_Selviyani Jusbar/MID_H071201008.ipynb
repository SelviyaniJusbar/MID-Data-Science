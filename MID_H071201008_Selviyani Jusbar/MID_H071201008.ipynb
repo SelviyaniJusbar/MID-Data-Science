{
 "cells": [
  {
   "cell_type": "markdown",
   "id": "c3ea22f3",
   "metadata": {},
   "source": [
    "# Informasi Data"
   ]
  },
  {
   "cell_type": "markdown",
   "id": "ceffacf3",
   "metadata": {},
   "source": [
    "Sumber data : https://www.kaggle.com/datasets/akshaydattatraykhare/diabetes-dataset\n",
    "1. Atribut data :\n",
    "2. pregnancies: Berapa kali hamil\n",
    "3. Glucose: Konsentrasi glukosa plasma selama 2 jam dalam tes toleransi glukosa oral\n",
    "4. BloodPressure: Tekanan darah diastolik (mm Hg)\n",
    "5. SkinThiness: Ketebalan lipatan kulit trisep (mm)\n",
    "6. Insulin: Insulin serum 2 jam (mu U/ml)\n",
    "7. BMI: Indeks massa tubuh (berat dalam kg/(tinggi dalam m)^2)\n",
    "8. DiabetesPedigreeFunction: Fungsi silsilah diabetes\n",
    "9. Age: Usia (tahun)\n",
    "10. Outcome: Variabel kelas (0 atau 1)"
   ]
  },
  {
   "cell_type": "markdown",
   "id": "05393d2f",
   "metadata": {},
   "source": [
    "### Read Data"
   ]
  },
  {
   "cell_type": "code",
   "execution_count": 20,
   "id": "af8b339c",
   "metadata": {},
   "outputs": [],
   "source": [
    "import pandas as pd\n",
    "import numpy as np\n",
    "import sklearn\n",
    "import seaborn as sns\n",
    "import matplotlib.pyplot as plt"
   ]
  },
  {
   "cell_type": "code",
   "execution_count": 21,
   "id": "1664032a",
   "metadata": {},
   "outputs": [
    {
     "data": {
      "text/html": [
       "<div>\n",
       "<style scoped>\n",
       "    .dataframe tbody tr th:only-of-type {\n",
       "        vertical-align: middle;\n",
       "    }\n",
       "\n",
       "    .dataframe tbody tr th {\n",
       "        vertical-align: top;\n",
       "    }\n",
       "\n",
       "    .dataframe thead th {\n",
       "        text-align: right;\n",
       "    }\n",
       "</style>\n",
       "<table border=\"1\" class=\"dataframe\">\n",
       "  <thead>\n",
       "    <tr style=\"text-align: right;\">\n",
       "      <th></th>\n",
       "      <th>Pregnancies</th>\n",
       "      <th>Glucose</th>\n",
       "      <th>BloodPressure</th>\n",
       "      <th>SkinThickness</th>\n",
       "      <th>Insulin</th>\n",
       "      <th>BMI</th>\n",
       "      <th>DiabetesPedigreeFunction</th>\n",
       "      <th>Age</th>\n",
       "      <th>Outcome</th>\n",
       "    </tr>\n",
       "  </thead>\n",
       "  <tbody>\n",
       "    <tr>\n",
       "      <th>0</th>\n",
       "      <td>6</td>\n",
       "      <td>148</td>\n",
       "      <td>72</td>\n",
       "      <td>35</td>\n",
       "      <td>0</td>\n",
       "      <td>33.6</td>\n",
       "      <td>0.627</td>\n",
       "      <td>50</td>\n",
       "      <td>1</td>\n",
       "    </tr>\n",
       "    <tr>\n",
       "      <th>1</th>\n",
       "      <td>1</td>\n",
       "      <td>85</td>\n",
       "      <td>66</td>\n",
       "      <td>29</td>\n",
       "      <td>0</td>\n",
       "      <td>26.6</td>\n",
       "      <td>0.351</td>\n",
       "      <td>31</td>\n",
       "      <td>0</td>\n",
       "    </tr>\n",
       "    <tr>\n",
       "      <th>2</th>\n",
       "      <td>8</td>\n",
       "      <td>183</td>\n",
       "      <td>64</td>\n",
       "      <td>0</td>\n",
       "      <td>0</td>\n",
       "      <td>23.3</td>\n",
       "      <td>0.672</td>\n",
       "      <td>32</td>\n",
       "      <td>1</td>\n",
       "    </tr>\n",
       "    <tr>\n",
       "      <th>3</th>\n",
       "      <td>1</td>\n",
       "      <td>89</td>\n",
       "      <td>66</td>\n",
       "      <td>23</td>\n",
       "      <td>94</td>\n",
       "      <td>28.1</td>\n",
       "      <td>0.167</td>\n",
       "      <td>21</td>\n",
       "      <td>0</td>\n",
       "    </tr>\n",
       "    <tr>\n",
       "      <th>4</th>\n",
       "      <td>0</td>\n",
       "      <td>137</td>\n",
       "      <td>40</td>\n",
       "      <td>35</td>\n",
       "      <td>168</td>\n",
       "      <td>43.1</td>\n",
       "      <td>2.288</td>\n",
       "      <td>33</td>\n",
       "      <td>1</td>\n",
       "    </tr>\n",
       "  </tbody>\n",
       "</table>\n",
       "</div>"
      ],
      "text/plain": [
       "   Pregnancies  Glucose  BloodPressure  SkinThickness  Insulin   BMI  \\\n",
       "0            6      148             72             35        0  33.6   \n",
       "1            1       85             66             29        0  26.6   \n",
       "2            8      183             64              0        0  23.3   \n",
       "3            1       89             66             23       94  28.1   \n",
       "4            0      137             40             35      168  43.1   \n",
       "\n",
       "   DiabetesPedigreeFunction  Age  Outcome  \n",
       "0                     0.627   50        1  \n",
       "1                     0.351   31        0  \n",
       "2                     0.672   32        1  \n",
       "3                     0.167   21        0  \n",
       "4                     2.288   33        1  "
      ]
     },
     "execution_count": 21,
     "metadata": {},
     "output_type": "execute_result"
    }
   ],
   "source": [
    "data = 'Data/'\n",
    "data_set_csv = pd.read_csv(data + 'diabetes.csv')\n",
    "data_set_csv.head()"
   ]
  },
  {
   "cell_type": "markdown",
   "id": "94311e11",
   "metadata": {},
   "source": [
    "### Cleaning Data"
   ]
  },
  {
   "cell_type": "code",
   "execution_count": 22,
   "id": "8f98fe4a",
   "metadata": {},
   "outputs": [],
   "source": [
    "df = data_set_csv"
   ]
  },
  {
   "cell_type": "code",
   "execution_count": 23,
   "id": "5c4cb7bc",
   "metadata": {},
   "outputs": [
    {
     "name": "stdout",
     "output_type": "stream",
     "text": [
      "<class 'pandas.core.frame.DataFrame'>\n",
      "RangeIndex: 768 entries, 0 to 767\n",
      "Data columns (total 9 columns):\n",
      " #   Column                    Non-Null Count  Dtype  \n",
      "---  ------                    --------------  -----  \n",
      " 0   Pregnancies               768 non-null    int64  \n",
      " 1   Glucose                   768 non-null    int64  \n",
      " 2   BloodPressure             768 non-null    int64  \n",
      " 3   SkinThickness             768 non-null    int64  \n",
      " 4   Insulin                   768 non-null    int64  \n",
      " 5   BMI                       768 non-null    float64\n",
      " 6   DiabetesPedigreeFunction  768 non-null    float64\n",
      " 7   Age                       768 non-null    int64  \n",
      " 8   Outcome                   768 non-null    int64  \n",
      "dtypes: float64(2), int64(7)\n",
      "memory usage: 54.1 KB\n"
     ]
    }
   ],
   "source": [
    "df.info()"
   ]
  },
  {
   "cell_type": "markdown",
   "id": "6bf9ed17",
   "metadata": {},
   "source": [
    "### Handling Missing Values"
   ]
  },
  {
   "cell_type": "code",
   "execution_count": 24,
   "id": "95b2310b",
   "metadata": {},
   "outputs": [],
   "source": [
    "df['BMI'] = df['BMI'].astype('int')\n",
    "df['DiabetesPedigreeFunction'] = df['DiabetesPedigreeFunction'].astype('int')"
   ]
  },
  {
   "cell_type": "code",
   "execution_count": 25,
   "id": "e8cf7da2",
   "metadata": {},
   "outputs": [
    {
     "name": "stdout",
     "output_type": "stream",
     "text": [
      "<class 'pandas.core.frame.DataFrame'>\n",
      "RangeIndex: 768 entries, 0 to 767\n",
      "Data columns (total 9 columns):\n",
      " #   Column                    Non-Null Count  Dtype\n",
      "---  ------                    --------------  -----\n",
      " 0   Pregnancies               768 non-null    int64\n",
      " 1   Glucose                   768 non-null    int64\n",
      " 2   BloodPressure             768 non-null    int64\n",
      " 3   SkinThickness             768 non-null    int64\n",
      " 4   Insulin                   768 non-null    int64\n",
      " 5   BMI                       768 non-null    int32\n",
      " 6   DiabetesPedigreeFunction  768 non-null    int32\n",
      " 7   Age                       768 non-null    int64\n",
      " 8   Outcome                   768 non-null    int64\n",
      "dtypes: int32(2), int64(7)\n",
      "memory usage: 48.1 KB\n"
     ]
    }
   ],
   "source": [
    "df.info()"
   ]
  },
  {
   "cell_type": "markdown",
   "id": "52286e2b",
   "metadata": {},
   "source": [
    "### Visualisasi Data"
   ]
  },
  {
   "cell_type": "markdown",
   "id": "29c1f93b",
   "metadata": {},
   "source": [
    "#### 1. Bar Chart"
   ]
  },
  {
   "cell_type": "code",
   "execution_count": 26,
   "id": "a702d69b",
   "metadata": {},
   "outputs": [
    {
     "data": {
      "image/png": "[encoded data removed]",
      "text/plain": [
       "<Figure size 640x480 with 1 Axes>"
      ]
     },
     "metadata": {},
     "output_type": "display_data"
    }
   ],
   "source": [
    "plt.bar(df['Glucose'], df['Age'])\n",
    "plt.title('Bar Chart')\n",
    "\n",
    "plt.xlabel('Glucose')\n",
    "plt.ylabel('Age')\n",
    "plt.show()"
   ]
  },
  {
   "cell_type": "markdown",
   "id": "d3c76c31",
   "metadata": {},
   "source": [
    "#### 2. Scatter "
   ]
  },
  {
   "cell_type": "code",
   "execution_count": 27,
   "id": "6c27f0cc",
   "metadata": {},
   "outputs": [
    {
     "data": {
      "image/png": "[encoded data removed]",
      "text/plain": [
       "<Figure size 640x480 with 1 Axes>"
      ]
     },
     "metadata": {},
     "output_type": "display_data"
    }
   ],
   "source": [
    "plt.scatter(df['Glucose'], df['Age'])\n",
    "plt.title('Scatter Plot')\n",
    "\n",
    "plt.xlabel('Glucose')\n",
    "plt.ylabel('Age')\n",
    "plt.show()"
   ]
  },
  {
   "cell_type": "markdown",
   "id": "1f242fd3",
   "metadata": {},
   "source": [
    "#### 3. Histogram"
   ]
  },
  {
   "cell_type": "code",
   "execution_count": 28,
   "id": "73e4f2a7",
   "metadata": {},
   "outputs": [
    {
     "data": {
      "image/png": "[encoded data removed]",
      "text/plain": [
       "<Figure size 640x480 with 1 Axes>"
      ]
     },
     "metadata": {},
     "output_type": "display_data"
    }
   ],
   "source": [
    "plt.hist(df['Age'])\n",
    "plt.title('Histogram')\n",
    "\n",
    "plt.ylabel('Age')\n",
    "plt.show()"
   ]
  },
  {
   "cell_type": "markdown",
   "id": "7bb8d329",
   "metadata": {},
   "source": [
    "### Create Variabel X dan Y "
   ]
  },
  {
   "cell_type": "code",
   "execution_count": 29,
   "id": "5764f190",
   "metadata": {},
   "outputs": [],
   "source": [
    "x = df.iloc[:,0:-1].values\n",
    "y = df.iloc[:,-1].values"
   ]
  },
  {
   "cell_type": "markdown",
   "id": "4f9cace1",
   "metadata": {},
   "source": [
    "### Split Data"
   ]
  },
  {
   "cell_type": "code",
   "execution_count": 30,
   "id": "c42c7fb9",
   "metadata": {},
   "outputs": [],
   "source": [
    "from sklearn.model_selection import train_test_split"
   ]
  },
  {
   "cell_type": "code",
   "execution_count": 31,
   "id": "2e38ad8f",
   "metadata": {},
   "outputs": [],
   "source": [
    "x_train, x_test, y_train, y_test = train_test_split(x, y, test_size=0.2, random_state=0)"
   ]
  },
  {
   "cell_type": "markdown",
   "id": "5513b76c",
   "metadata": {},
   "source": [
    "### Pengujian Metode"
   ]
  },
  {
   "cell_type": "markdown",
   "id": "eeacfedc",
   "metadata": {},
   "source": [
    "#### A. Clasifikasi"
   ]
  },
  {
   "cell_type": "markdown",
   "id": "4b94e5c9",
   "metadata": {},
   "source": [
    "#### 1. KNN"
   ]
  },
  {
   "cell_type": "code",
   "execution_count": 32,
   "id": "9ce94805",
   "metadata": {},
   "outputs": [
    {
     "name": "stdout",
     "output_type": "stream",
     "text": [
      "Akurasi metode KNN:0.75324675 atau 75.32%\n"
     ]
    }
   ],
   "source": [
    "from sklearn.neighbors import KNeighborsClassifier\n",
    "import sklearn.metrics as metrics\n",
    "\n",
    "knn_method = KNeighborsClassifier()\n",
    "knn_method.fit(x_train, y_train)\n",
    "knn_predic = knn_method.predict(x_test)\n",
    "\n",
    "accuracy = metrics.accuracy_score(knn_predic, y_test)\n",
    "\n",
    "print('Akurasi metode KNN:', round(accuracy,8), ' atau ', round(accuracy*100,2), '%', sep='')"
   ]
  },
  {
   "cell_type": "markdown",
   "id": "d4c4eedb",
   "metadata": {},
   "source": [
    "#### 2. DecisionTree"
   ]
  },
  {
   "cell_type": "code",
   "execution_count": 33,
   "id": "e239bbcf",
   "metadata": {},
   "outputs": [
    {
     "name": "stdout",
     "output_type": "stream",
     "text": [
      "Akurasi metode Tree:0.71428571 atau 71.43%\n"
     ]
    }
   ],
   "source": [
    "from sklearn.tree import DecisionTreeClassifier\n",
    "import sklearn.metrics as metrics\n",
    "\n",
    "tree_method = DecisionTreeClassifier()\n",
    "tree_method.fit(x_train, y_train)\n",
    "tree_predic = tree_method.predict(x_test)\n",
    "\n",
    "accuracy_tree = metrics.accuracy_score(tree_predic, y_test)\n",
    "\n",
    "print('Akurasi metode Tree:', round(accuracy_tree,8), ' atau ', round(accuracy_tree*100,2), '%', sep='')"
   ]
  },
  {
   "cell_type": "markdown",
   "id": "e0ce3ed2",
   "metadata": {},
   "source": [
    "#### 3. Naive Bayes"
   ]
  },
  {
   "cell_type": "code",
   "execution_count": 34,
   "id": "786b9dc3",
   "metadata": {},
   "outputs": [
    {
     "name": "stdout",
     "output_type": "stream",
     "text": [
      "Akurasi metode Bayes:0.7012987 atau 70.13%\n"
     ]
    }
   ],
   "source": [
    "from sklearn import naive_bayes\n",
    "import sklearn.metrics as metrics\n",
    "\n",
    "bayes_method = naive_bayes.BernoulliNB()\n",
    "bayes_method.fit(x_train, y_train)\n",
    "bayes_predic = bayes_method.predict(x_test)\n",
    "\n",
    "accuracy_bayes = metrics.accuracy_score(bayes_predic, y_test)\n",
    "\n",
    "print('Akurasi metode Bayes:', round(accuracy_bayes,8), ' atau ', round(accuracy_bayes*100,2), '%', sep='')"
   ]
  },
  {
   "cell_type": "markdown",
   "id": "c9d2fafb",
   "metadata": {},
   "source": [
    "### B. Regresi"
   ]
  },
  {
   "cell_type": "markdown",
   "id": "b55c5987",
   "metadata": {},
   "source": [
    "#### 1. MSE"
   ]
  },
  {
   "cell_type": "code",
   "execution_count": 35,
   "id": "d74e9979",
   "metadata": {},
   "outputs": [
    {
     "name": "stdout",
     "output_type": "stream",
     "text": [
      "MSE: 0.1481212313858091\n"
     ]
    }
   ],
   "source": [
    "from sklearn.metrics import mean_absolute_error, mean_squared_error, r2_score\n",
    "from sklearn.linear_model import LinearRegression\n",
    "import sklearn.metrics as metrics\n",
    "import sklearn.metrics as met\n",
    "\n",
    "reg_method = LinearRegression()\n",
    "reg_method.fit(x_train, y_train)\n",
    "reg_predic = reg_method.predict(x_test)\n",
    "\n",
    "print(\"MSE:\",mean_squared_error(y_test, reg_predic))"
   ]
  },
  {
   "cell_type": "markdown",
   "id": "4b1be85c",
   "metadata": {},
   "source": [
    "#### 2. MAE"
   ]
  },
  {
   "cell_type": "code",
   "execution_count": 36,
   "id": "9e816bd1",
   "metadata": {},
   "outputs": [
    {
     "name": "stdout",
     "output_type": "stream",
     "text": [
      "MAE: 0.3237520188672359\n"
     ]
    }
   ],
   "source": [
    "from sklearn.metrics import mean_absolute_error, mean_squared_error, r2_score\n",
    "from sklearn.linear_model import LinearRegression\n",
    "import sklearn.metrics as metrics\n",
    "import sklearn.metrics as met\n",
    "\n",
    "reg_method = LinearRegression()\n",
    "reg_method.fit(x_train, y_train)\n",
    "reg_predic = reg_method.predict(x_test)\n",
    "\n",
    "print(\"MAE:\",mean_absolute_error(y_test, reg_predic))"
   ]
  },
  {
   "cell_type": "markdown",
   "id": "f10228b0",
   "metadata": {},
   "source": [
    "#### 3. R2 "
   ]
  },
  {
   "cell_type": "code",
   "execution_count": 37,
   "id": "bc77caf2",
   "metadata": {},
   "outputs": [
    {
     "name": "stdout",
     "output_type": "stream",
     "text": [
      "r2_score: 0.301482775194701\n"
     ]
    }
   ],
   "source": [
    "from sklearn.metrics import mean_absolute_error, mean_squared_error, r2_score\n",
    "from sklearn.linear_model import LinearRegression\n",
    "import sklearn.metrics as metrics\n",
    "import sklearn.metrics as met\n",
    "\n",
    "reg_method = LinearRegression()\n",
    "reg_method.fit(x_train, y_train)\n",
    "reg_predic = reg_method.predict(x_test)\n",
    "\n",
    "print(\"r2_score:\",met.r2_score(y_test, reg_predic))"
   ]
  }
 ],
 "metadata": {
  "kernelspec": {
   "display_name": "Python 3 (ipykernel)",
   "language": "python",
   "name": "python3"
  },
  "language_info": {
   "codemirror_mode": {
    "name": "ipython",
    "version": 3
   },
   "file_extension": ".py",
   "mimetype": "text/x-python",
   "name": "python",
   "nbconvert_exporter": "python",
   "pygments_lexer": "ipython3",
   "version": "3.10.6"
  }
 },
 "nbformat": 4,
 "nbformat_minor": 5
}
